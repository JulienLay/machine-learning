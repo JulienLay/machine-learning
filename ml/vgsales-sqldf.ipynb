{
 "cells": [
  {
   "cell_type": "code",
   "execution_count": 1,
   "metadata": {},
   "outputs": [],
   "source": [
    "import pandas as pd\n",
    "\n",
    "df = pd.read_csv('./data/vgsales.csv')"
   ]
  },
  {
   "cell_type": "code",
   "execution_count": 9,
   "metadata": {},
   "outputs": [
    {
     "name": "stdout",
     "output_type": "stream",
     "text": [
      "    index   Rank                                               Name Platform  \\\n",
      "0       1      2                                  Super Mario Bros.      NES   \n",
      "1       9     10                                          Duck Hunt      NES   \n",
      "2      22     23                                Super Mario Bros. 3      NES   \n",
      "3      96     97                                Super Mario Bros. 2      NES   \n",
      "4     127    128                                The Legend of Zelda      NES   \n",
      "..    ...    ...                                                ...      ...   \n",
      "93   5862   5864                                        Famista '91      NES   \n",
      "94   6161   6163                                        Famista '92      NES   \n",
      "95  10309  10311                               Final Fantasy I & II      NES   \n",
      "96  11985  11987  Teenage Mutant Ninja Turtles: Tournament Fighters      NES   \n",
      "97  12636  12638                                 Adventures of Lolo      NES   \n",
      "\n",
      "      Year         Genre                     Publisher  NA_Sales  EU_Sales  \\\n",
      "0   1985.0      Platform                      Nintendo     29.08      3.58   \n",
      "1   1984.0       Shooter                      Nintendo     26.93      0.63   \n",
      "2   1988.0      Platform                      Nintendo      9.54      3.44   \n",
      "3   1988.0      Platform                      Nintendo      5.39      1.18   \n",
      "4   1986.0        Action                      Nintendo      3.74      0.93   \n",
      "..     ...           ...                           ...       ...       ...   \n",
      "93  1990.0        Sports            Namco Bandai Games      0.00      0.00   \n",
      "94  1991.0        Sports            Namco Bandai Games      0.00      0.00   \n",
      "95  1994.0  Role-Playing                        Square      0.00      0.00   \n",
      "96  1992.0      Fighting  Konami Digital Entertainment      0.04      0.01   \n",
      "97  1989.0        Puzzle                HAL Laboratory      0.06      0.00   \n",
      "\n",
      "    JP_Sales  Other_Sales  Global_Sales  \n",
      "0       6.81         0.77         40.24  \n",
      "1       0.28         0.47         28.31  \n",
      "2       3.84         0.46         17.28  \n",
      "3       0.70         0.19          7.46  \n",
      "4       1.69         0.14          6.51  \n",
      "..       ...          ...           ...  \n",
      "93      0.30         0.00          0.30  \n",
      "94      0.28         0.00          0.28  \n",
      "95      0.11         0.00          0.11  \n",
      "96      0.02         0.00          0.07  \n",
      "97      0.00         0.00          0.06  \n",
      "\n",
      "[98 rows x 12 columns]\n"
     ]
    }
   ],
   "source": [
    "#1\n",
    "\n",
    "# Import libraries\n",
    "import sqldf\n",
    "\n",
    "df = pd.read_csv('./data/vgsales.csv')\n",
    "\n",
    "# Define a SQL (SQLite3) query\n",
    "query = \"\"\"\n",
    "SELECT *\n",
    "FROM df\n",
    "WHERE \"Platform\" == \"NES\";\n",
    "\"\"\"\n",
    "\n",
    "# Run the query\n",
    "df_view = sqldf.run(query)\n",
    "\n",
    "print(df_view)"
   ]
  },
  {
   "cell_type": "code",
   "execution_count": 10,
   "metadata": {},
   "outputs": [
    {
     "name": "stdout",
     "output_type": "stream",
     "text": [
      "   sum(JP_Sales)\n",
      "0        1291.02\n"
     ]
    }
   ],
   "source": [
    "#2\n",
    "# Import libraries\n",
    "import sqldf\n",
    "\n",
    "df = pd.read_csv('./data/vgsales.csv')\n",
    "\n",
    "# Define a SQL (SQLite3) query\n",
    "query = \"\"\"\n",
    "SELECT sum(JP_Sales)\n",
    "FROM df\n",
    "\"\"\"\n",
    "\n",
    "# Run the query\n",
    "df_view = sqldf.run(query)\n",
    "\n",
    "print(df_view)"
   ]
  },
  {
   "cell_type": "code",
   "execution_count": 12,
   "metadata": {},
   "outputs": [
    {
     "name": "stdout",
     "output_type": "stream",
     "text": [
      "      index   Rank                                               Name  \\\n",
      "0         2      3                                     Mario Kart Wii   \n",
      "1         3      4                                  Wii Sports Resort   \n",
      "2         8      9                          New Super Mario Bros. Wii   \n",
      "3        14     15                                       Wii Fit Plus   \n",
      "4        15     16                                 Kinect Adventures!   \n",
      "...     ...    ...                                                ...   \n",
      "7999  16588  16591                                   Mega Brain Boost   \n",
      "8000  16589  16592  Chou Ezaru wa Akai Hana: Koi wa Tsuki ni Shiru...   \n",
      "8001  16592  16595                                           Plushees   \n",
      "8002  16595  16598   SCORE International Baja 1000: The Official Game   \n",
      "8003  16596  16599                                         Know How 2   \n",
      "\n",
      "     Platform    Year       Genre               Publisher  NA_Sales  EU_Sales  \\\n",
      "0         Wii  2008.0      Racing                Nintendo     15.85     12.88   \n",
      "1         Wii  2009.0      Sports                Nintendo     15.75     11.01   \n",
      "2         Wii  2009.0    Platform                Nintendo     14.59      7.06   \n",
      "3         Wii  2009.0      Sports                Nintendo      9.09      8.59   \n",
      "4        X360  2010.0        Misc  Microsoft Game Studios     14.97      4.94   \n",
      "...       ...     ...         ...                     ...       ...       ...   \n",
      "7999       DS  2008.0      Puzzle   Majesco Entertainment      0.01      0.00   \n",
      "8000      PSV  2016.0      Action         dramatic create      0.00      0.00   \n",
      "8001       DS  2008.0  Simulation               Destineer      0.01      0.00   \n",
      "8002      PS2  2008.0      Racing              Activision      0.00      0.00   \n",
      "8003       DS  2010.0      Puzzle                7G//AMES      0.00      0.01   \n",
      "\n",
      "      JP_Sales  Other_Sales  Global_Sales  \n",
      "0         3.79         3.31         35.82  \n",
      "1         3.28         2.96         33.00  \n",
      "2         4.70         2.26         28.62  \n",
      "3         2.53         1.79         22.00  \n",
      "4         0.24         1.67         21.82  \n",
      "...        ...          ...           ...  \n",
      "7999      0.00         0.00          0.01  \n",
      "8000      0.01         0.00          0.01  \n",
      "8001      0.00         0.00          0.01  \n",
      "8002      0.00         0.00          0.01  \n",
      "8003      0.00         0.00          0.01  \n",
      "\n",
      "[8004 rows x 12 columns]\n"
     ]
    }
   ],
   "source": [
    "#3\n",
    "# Import libraries\n",
    "import sqldf\n",
    "\n",
    "df = pd.read_csv('./data/vgsales.csv')\n",
    "\n",
    "# Define a SQL (SQLite3) query\n",
    "query = \"\"\"\n",
    "SELECT *\n",
    "FROM df\n",
    "WHERE \"Year\" >= 2008\n",
    "\"\"\"\n",
    "\n",
    "# Run the query\n",
    "df_view = sqldf.run(query)\n",
    "\n",
    "print(df_view)"
   ]
  },
  {
   "cell_type": "code",
   "execution_count": 19,
   "metadata": {},
   "outputs": [
    {
     "name": "stdout",
     "output_type": "stream",
     "text": [
      "   count(\"Plateform\")\n",
      "0                   0\n"
     ]
    }
   ],
   "source": [
    "#4\n",
    "# Import libraries\n",
    "import sqldf\n",
    "\n",
    "df = pd.read_csv('./data/vgsales.csv')\n",
    "\n",
    "# Define a SQL (SQLite3) query\n",
    "query = \"\"\"\n",
    "SELECT count(\"Plateform\")\n",
    "FROM df\n",
    "WHERE \"Plateform\" = \"Wii\";\n",
    "\"\"\"\n",
    "query2 = \"\"\"\n",
    "SELECT count(*)\n",
    "FROM df;\n",
    "\"\"\"\n",
    "\n",
    "# Run the query\n",
    "df_view = sqldf.run(query)\n",
    "df_view2 = sqldf.run(query2)\n",
    "\n",
    "print(df_view)\n",
    "\n",
    "# print((df_view/df_view2)/100)"
   ]
  }
 ],
 "metadata": {
  "kernelspec": {
   "display_name": "ml-venv",
   "language": "python",
   "name": "python3"
  },
  "language_info": {
   "codemirror_mode": {
    "name": "ipython",
    "version": 3
   },
   "file_extension": ".py",
   "mimetype": "text/x-python",
   "name": "python",
   "nbconvert_exporter": "python",
   "pygments_lexer": "ipython3",
   "version": "3.12.0"
  }
 },
 "nbformat": 4,
 "nbformat_minor": 2
}
